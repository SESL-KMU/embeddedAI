{
  "nbformat": 4,
  "nbformat_minor": 0,
  "metadata": {
    "colab": {
      "provenance": []
    },
    "kernelspec": {
      "name": "python3",
      "display_name": "Python 3"
    },
    "language_info": {
      "name": "python"
    }
  },
  "cells": [
    {
      "cell_type": "code",
      "execution_count": 6,
      "metadata": {
        "colab": {
          "base_uri": "https://localhost:8080/"
        },
        "id": "RUxSSuo8IXRF",
        "outputId": "50c35bfe-75cd-45aa-ac7c-ff5e6f45a21b"
      },
      "outputs": [
        {
          "output_type": "stream",
          "name": "stdout",
          "text": [
            "Step:    0 | Cost: 0.2500 | W: [1.125, -0.875] | b: 0.0000 | Accuracy: 0.5000\n",
            "Step:  100 | Cost: 0.0109 | W: [3.1921472549438477, 1.1921476125717163] | b: -1.9820 | Accuracy: 1.0000\n",
            "Step:  200 | Cost: 0.0049 | W: [3.620851755142212, 1.6208534240722656] | b: -2.4244 | Accuracy: 1.0000\n",
            "Step:  300 | Cost: 0.0031 | W: [3.8611977100372314, 1.8611994981765747] | b: -2.6700 | Accuracy: 1.0000\n",
            "Step:  400 | Cost: 0.0023 | W: [4.027578353881836, 2.027580738067627] | b: -2.8392 | Accuracy: 1.0000\n",
            "Step:  500 | Cost: 0.0018 | W: [4.1545305252075195, 2.154531717300415] | b: -2.9680 | Accuracy: 1.0000\n",
            "Step:  600 | Cost: 0.0015 | W: [4.257028102874756, 2.2570254802703857] | b: -3.0719 | Accuracy: 1.0000\n",
            "Step:  700 | Cost: 0.0012 | W: [4.342892169952393, 2.342890739440918] | b: -3.1587 | Accuracy: 1.0000\n",
            "Step:  800 | Cost: 0.0011 | W: [4.416728973388672, 2.4167251586914062] | b: -3.2334 | Accuracy: 1.0000\n",
            "Step:  900 | Cost: 0.0009 | W: [4.481461524963379, 2.481459379196167] | b: -3.2987 | Accuracy: 1.0000\n",
            "Step: 1000 | Cost: 0.0008 | W: [4.539073467254639, 2.539071798324585] | b: -3.3569 | Accuracy: 1.0000\n"
          ]
        }
      ],
      "source": [
        "import torch\n",
        "\n",
        "# 입력/정답 데이터\n",
        "x_data = torch.tensor([[0., 0.], [1., 1.]])\n",
        "y_data = torch.tensor([[0.], [1.]])\n",
        "\n",
        "# 가중치와 편향 (requires_grad=True 설정)\n",
        "W = torch.tensor([[1.], [-1.]], requires_grad=True)\n",
        "b = torch.tensor([0.], requires_grad=True)\n",
        "\n",
        "# 학습률\n",
        "lr = 1.0\n",
        "\n",
        "# 학습 루프\n",
        "for step in range(1001):\n",
        "    # 가설\n",
        "    hypothesis = torch.sigmoid(x_data @ W + b)\n",
        "\n",
        "    # 비용 함수\n",
        "    cost = torch.mean((hypothesis - y_data) ** 2)\n",
        "\n",
        "    # 역전파\n",
        "    cost.backward()\n",
        "\n",
        "    # 경사 하강법 수동 업데이트\n",
        "    with torch.no_grad():\n",
        "        W -= lr * W.grad\n",
        "        b -= lr * b.grad\n",
        "\n",
        "        W.grad.zero_()\n",
        "        b.grad.zero_()\n",
        "\n",
        "    # 출력\n",
        "    if step % 100 == 0:\n",
        "        predicted = (hypothesis > 0.5).float()\n",
        "        accuracy = (predicted == y_data).float().mean()\n",
        "        print(f\"Step: {step:4d} | Cost: {cost.item():.4f} | W: {W.squeeze().tolist()} | b: {b.item():.4f} | Accuracy: {accuracy:.4f}\")\n"
      ]
    }
  ]
}