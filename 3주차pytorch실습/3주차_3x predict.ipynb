{
  "nbformat": 4,
  "nbformat_minor": 0,
  "metadata": {
    "colab": {
      "provenance": []
    },
    "kernelspec": {
      "name": "python3",
      "display_name": "Python 3"
    },
    "language_info": {
      "name": "python"
    }
  },
  "cells": [
    {
      "cell_type": "code",
      "execution_count": 3,
      "metadata": {
        "colab": {
          "base_uri": "https://localhost:8080/"
        },
        "id": "RUxSSuo8IXRF",
        "outputId": "c507bb8c-a40f-4739-c26a-512e24836be9"
      },
      "outputs": [
        {
          "output_type": "stream",
          "name": "stdout",
          "text": [
            "Step    0 | Cost: 0.5532 | W: 2.6613 | b: 0.8472\n",
            "Step  100 | Cost: 0.0008 | W: 2.9678 | b: 0.0732\n",
            "Step  200 | Cost: 0.0000 | W: 2.9972 | b: 0.0064\n",
            "Step  300 | Cost: 0.0000 | W: 2.9998 | b: 0.0006\n",
            "Step  400 | Cost: 0.0000 | W: 3.0000 | b: 0.0000\n",
            "Step  500 | Cost: 0.0000 | W: 3.0000 | b: 0.0000\n",
            "Step  600 | Cost: 0.0000 | W: 3.0000 | b: 0.0000\n",
            "Step  700 | Cost: 0.0000 | W: 3.0000 | b: 0.0000\n",
            "Step  800 | Cost: 0.0000 | W: 3.0000 | b: 0.0000\n",
            "Step  900 | Cost: 0.0000 | W: 3.0000 | b: 0.0000\n",
            "Step 1000 | Cost: 0.0000 | W: 3.0000 | b: 0.0000\n",
            "\n",
            "예측 결과:\n",
            "[[3.]\n",
            " [6.]\n",
            " [9.]]\n"
          ]
        }
      ],
      "source": [
        "import torch\n",
        "\n",
        "# 데이터 정의\n",
        "x_data = torch.tensor([[1.0], [2.0], [3.0]])\n",
        "y_data = torch.tensor([[3.0], [6.0], [9.0]])\n",
        "\n",
        "W = torch.randn(1, requires_grad=True)\n",
        "b = torch.randn(1, requires_grad=True)\n",
        "\n",
        "# 학습률 설정\n",
        "learning_rate = 0.1\n",
        "\n",
        "# 학습 루프\n",
        "for step in range(1001):\n",
        "    # 선형 모델 계산: h = x * W + b\n",
        "    h = x_data * W + b\n",
        "\n",
        "    # 비용 함수: 평균 제곱 오차 (MSE)\n",
        "    cost = torch.mean((h - y_data) ** 2)\n",
        "\n",
        "    # 그래디언트 초기화 → 역전파 → 파라미터 수동 업데이트\n",
        "    cost.backward()\n",
        "\n",
        "    with torch.no_grad():\n",
        "        W -= learning_rate * W.grad\n",
        "        b -= learning_rate * b.grad\n",
        "        W.grad.zero_()\n",
        "        b.grad.zero_()\n",
        "\n",
        "    # 100 step마다 출력\n",
        "    if step % 100 == 0:\n",
        "        print(f\"Step {step:4d} | Cost: {cost.item():.4f} | W: {W.item():.4f} | b: {b.item():.4f}\")\n",
        "\n",
        "# 최종 예측 결과 출력\n",
        "print(\"\\n예측 결과:\")\n",
        "print((x_data * W + b).detach().numpy())\n"
      ]
    }
  ]
}