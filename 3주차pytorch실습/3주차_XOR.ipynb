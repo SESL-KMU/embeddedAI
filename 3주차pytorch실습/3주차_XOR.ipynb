{
  "nbformat": 4,
  "nbformat_minor": 0,
  "metadata": {
    "colab": {
      "provenance": []
    },
    "kernelspec": {
      "name": "python3",
      "display_name": "Python 3"
    },
    "language_info": {
      "name": "python"
    }
  },
  "cells": [
    {
      "cell_type": "code",
      "execution_count": 9,
      "metadata": {
        "colab": {
          "base_uri": "https://localhost:8080/"
        },
        "id": "RUxSSuo8IXRF",
        "outputId": "c6551006-d8cf-4b37-91c6-778068a5327c"
      },
      "outputs": [
        {
          "output_type": "stream",
          "name": "stdout",
          "text": [
            "Step:    0 | Cost: 0.2767 | W: [0.9639385342597961, -0.9906325936317444] | b: -0.0267 | Accuracy: 0.7500\n",
            "Step:  100 | Cost: 0.2501 | W: [0.06842635571956635, -0.05126103013753891] | b: -0.0115 | Accuracy: 0.5000\n",
            "Step:  200 | Cost: 0.2500 | W: [0.003772422671318054, -0.001248776912689209] | b: -0.0015 | Accuracy: 0.5000\n",
            "Step:  300 | Cost: 0.2500 | W: [0.00027905404567718506, 6.914883852005005e-05] | b: -0.0002 | Accuracy: 0.5000\n",
            "Step:  400 | Cost: 0.2500 | W: [2.8371810913085938e-05, 1.963973045349121e-05] | b: -0.0000 | Accuracy: 0.2500\n",
            "Step:  500 | Cost: 0.2500 | W: [3.4570693969726562e-06, 3.1441450119018555e-06] | b: -0.0000 | Accuracy: 0.2500\n",
            "Step:  600 | Cost: 0.2500 | W: [4.3958425521850586e-07, 4.3958425521850586e-07] | b: -0.0000 | Accuracy: 0.2500\n",
            "Step:  700 | Cost: 0.2500 | W: [1.2665987014770508e-07, 1.2665987014770508e-07] | b: -0.0000 | Accuracy: 0.5000\n",
            "Step:  800 | Cost: 0.2500 | W: [1.2665987014770508e-07, 1.2665987014770508e-07] | b: -0.0000 | Accuracy: 0.5000\n",
            "Step:  900 | Cost: 0.2500 | W: [1.2665987014770508e-07, 1.2665987014770508e-07] | b: -0.0000 | Accuracy: 0.5000\n",
            "Step: 1000 | Cost: 0.2500 | W: [1.2665987014770508e-07, 1.2665987014770508e-07] | b: -0.0000 | Accuracy: 0.5000\n"
          ]
        }
      ],
      "source": [
        "import torch\n",
        "\n",
        "# 입력과 정답 (XOR 문제 중 일부만 사용)\n",
        "x_data = torch.tensor([[0., 0.], [0., 1.], [1., 0.], [1., 1.]])\n",
        "y_data = torch.tensor([[0.], [1.], [1.], [0.]])\n",
        "\n",
        "# 가중치와 편향 초기화\n",
        "W = torch.tensor([[1.], [-1.]], requires_grad=True)\n",
        "b = torch.tensor([0.], requires_grad=True)\n",
        "\n",
        "# 학습률\n",
        "lr = 1.0\n",
        "\n",
        "# 학습 루프\n",
        "for step in range(1001):\n",
        "    # 가설 계산 (시그모이드 활성화 함수 사용)\n",
        "    hypothesis = torch.sigmoid(x_data @ W + b)\n",
        "\n",
        "    # 비용 함수 (평균 제곱 오차)\n",
        "    cost = torch.mean((hypothesis - y_data) ** 2)\n",
        "\n",
        "    # 역전파\n",
        "    cost.backward()\n",
        "\n",
        "    # 파라미터 수동 업데이트\n",
        "    with torch.no_grad():\n",
        "        W -= lr * W.grad\n",
        "        b -= lr * b.grad\n",
        "        W.grad.zero_()\n",
        "        b.grad.zero_()\n",
        "\n",
        "    # 중간 결과 출력\n",
        "    if step % 100 == 0:\n",
        "        predicted = (hypothesis > 0.5).float()\n",
        "        accuracy = (predicted == y_data).float().mean()\n",
        "        print(f\"Step: {step:4d} | Cost: {cost.item():.4f} | W: {W.squeeze().tolist()} | b: {b.item():.4f} | Accuracy: {accuracy:.4f}\")\n"
      ]
    }
  ]
}