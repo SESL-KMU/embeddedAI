{
  "nbformat": 4,
  "nbformat_minor": 0,
  "metadata": {
    "colab": {
      "provenance": []
    },
    "kernelspec": {
      "name": "python3",
      "display_name": "Python 3"
    },
    "language_info": {
      "name": "python"
    }
  },
  "cells": [
    {
      "cell_type": "code",
      "execution_count": 10,
      "metadata": {
        "colab": {
          "base_uri": "https://localhost:8080/"
        },
        "id": "RUxSSuo8IXRF",
        "outputId": "2fbd3665-54bf-4d84-8637-fe077b313b6b"
      },
      "outputs": [
        {
          "output_type": "stream",
          "name": "stdout",
          "text": [
            "[tensor(6), tensor(-2), tensor(8), tensor(0.5000)]\n"
          ]
        }
      ],
      "source": [
        "\n"
      ]
    }
  ]
}