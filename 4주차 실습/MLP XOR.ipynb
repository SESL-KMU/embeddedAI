{
  "nbformat": 4,
  "nbformat_minor": 0,
  "metadata": {
    "colab": {
      "provenance": []
    },
    "kernelspec": {
      "name": "python3",
      "display_name": "Python 3"
    },
    "language_info": {
      "name": "python"
    }
  },
  "cells": [
    {
      "cell_type": "code",
      "execution_count": 8,
      "metadata": {
        "colab": {
          "base_uri": "https://localhost:8080/"
        },
        "id": "RUxSSuo8IXRF",
        "outputId": "08a823f2-a69b-4773-aad1-0b5d285204ea"
      },
      "outputs": [
        {
          "output_type": "stream",
          "name": "stdout",
          "text": [
            "loss: 0.0475 - accuracy: 1.0000\n",
            "예측 결과:\n",
            "tensor([[0.1687],\n",
            "        [0.7777],\n",
            "        [0.7903],\n",
            "        [0.2610]])\n"
          ]
        }
      ],
      "source": [
        "import torch\n",
        "import torch.nn as nn\n",
        "import torch.optim as optim\n",
        "import numpy as np\n",
        "\n",
        "x_data = np.array([[0,0],[0,1],[1,0],[1,1]], dtype=np.float32)\n",
        "y_data = np.array([[0],[1],[1],[0]], dtype=np.float32)\n",
        "\n",
        "x_tensor = torch.tensor(x_data)\n",
        "y_tensor = torch.tensor(y_data)\n",
        "\n",
        "# 모델 정의\n",
        "class XORModel(nn.Module):\n",
        "    def __init__(self):\n",
        "        super(XORModel, self).__init__()\n",
        "        self.layer1 = nn.Linear(2, 16)\n",
        "        self.layer2 = nn.Linear(16, 1)\n",
        "        self.sigmoid = nn.Sigmoid()\n",
        "\n",
        "    def forward(self, x):\n",
        "        x = self.sigmoid(self.layer1(x))\n",
        "        x = self.sigmoid(self.layer2(x))\n",
        "        return x\n",
        "\n",
        "model = XORModel()\n",
        "\n",
        "# Xavier 초기화\n",
        "def init_weights(m):\n",
        "    if isinstance(m, nn.Linear):\n",
        "        nn.init.xavier_uniform_(m.weight)\n",
        "        nn.init.zeros_(m.bias)\n",
        "\n",
        "model.apply(init_weights)\n",
        "\n",
        "# 손실 함수와 옵티마이저 설정\n",
        "criterion = nn.MSELoss()\n",
        "optimizer = optim.SGD(model.parameters(), lr=1.5)\n",
        "\n",
        "# 학습\n",
        "for epoch in range(500):\n",
        "    optimizer.zero_grad()\n",
        "    output = model(x_tensor)\n",
        "    loss = criterion(output, y_tensor)\n",
        "    loss.backward()\n",
        "    optimizer.step()\n",
        "\n",
        "# 평가\n",
        "with torch.no_grad():\n",
        "    output = model(x_tensor)\n",
        "    loss = criterion(output, y_tensor)\n",
        "    pred = (output > 0.5).float()\n",
        "    accuracy = (pred == y_tensor).float().mean()\n",
        "\n",
        "print(f\"loss: {loss.item():.4f} - accuracy: {accuracy.item():.4f}\")\n",
        "print(\"예측 결과:\")\n",
        "print(output)\n"
      ]
    }
  ]
}