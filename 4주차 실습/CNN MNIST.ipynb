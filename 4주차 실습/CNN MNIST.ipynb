{
  "nbformat": 4,
  "nbformat_minor": 0,
  "metadata": {
    "colab": {
      "provenance": []
    },
    "kernelspec": {
      "name": "python3",
      "display_name": "Python 3"
    },
    "language_info": {
      "name": "python"
    }
  },
  "cells": [
    {
      "cell_type": "code",
      "execution_count": 16,
      "metadata": {
        "colab": {
          "base_uri": "https://localhost:8080/",
          "height": 691
        },
        "id": "RUxSSuo8IXRF",
        "outputId": "92540151-68f5-4fcf-a256-a752f3c639a3"
      },
      "outputs": [
        {
          "output_type": "stream",
          "name": "stdout",
          "text": [
            "Training Start\n",
            "Epoch: 0001, cost = 0.220859238\n",
            "Epoch: 0002, cost = 0.061503784\n",
            "Epoch: 0003, cost = 0.045652724\n",
            "Epoch: 0004, cost = 0.036145988\n",
            "Epoch: 0005, cost = 0.029300309\n",
            "Epoch: 0006, cost = 0.025042436\n",
            "Epoch: 0007, cost = 0.021656723\n",
            "Epoch: 0008, cost = 0.018627647\n",
            "Epoch: 0009, cost = 0.014555011\n",
            "Epoch: 0010, cost = 0.013002810\n",
            "Training Finished\n",
            "Accuracy: 0.9908999800682068\n"
          ]
        },
        {
          "output_type": "display_data",
          "data": {
            "text/plain": [
              "<Figure size 640x480 with 1 Axes>"
            ],
            "image/png": "[encoded data removed]"
          },
          "metadata": {}
        }
      ],
      "source": [
        "import torch\n",
        "import torch.nn as nn\n",
        "import torch.optim as optim\n",
        "from torchvision.datasets import MNIST\n",
        "from torchvision import transforms\n",
        "from torch.utils.data import DataLoader\n",
        "import matplotlib.pyplot as plt\n",
        "\n",
        "# 1. 데이터 로딩 및 전처리\n",
        "transform = transforms.Compose([\n",
        "    transforms.ToTensor()\n",
        "])\n",
        "train_dataset = MNIST(root='./data', train=True, download=True, transform=transform)\n",
        "test_dataset = MNIST(root='./data', train=False, download=True, transform=transform)\n",
        "\n",
        "train_loader = DataLoader(dataset=train_dataset, batch_size=100, shuffle=True)\n",
        "test_loader = DataLoader(dataset=test_dataset, batch_size=10000, shuffle=False)\n",
        "\n",
        "# 2. 모델 정의\n",
        "class CNN(nn.Module):\n",
        "    def __init__(self):\n",
        "        super(CNN, self).__init__()\n",
        "        self.conv1 = nn.Conv2d(in_channels=1, out_channels=32, kernel_size=3, padding=1)\n",
        "        self.conv2 = nn.Conv2d(in_channels=32, out_channels=64, kernel_size=3, padding=1)\n",
        "        self.pool = nn.MaxPool2d(kernel_size=2, stride=2)  # 2x2 pooling\n",
        "        self.fc = nn.Linear(64 * 7 * 7, 10)  # == Linear(3136, 10) ← 수정됨\n",
        "\n",
        "    def forward(self, x):\n",
        "        x = self.pool(torch.relu(self.conv1(x)))  # (B, 32, 14, 14)\n",
        "        x = self.pool(torch.relu(self.conv2(x)))  # (B, 64, 7, 7)\n",
        "        x = x.view(x.size(0), -1)  # flatten → (B, 3136)\n",
        "        x = self.fc(x)  # fully connected → (B, 10)\n",
        "        return x\n",
        "\n",
        "model = CNN()\n",
        "\n",
        "# 3. 손실 함수 및 옵티마이저\n",
        "criterion = nn.CrossEntropyLoss()\n",
        "optimizer = optim.Adam(model.parameters(), lr=0.001)\n",
        "\n",
        "# 4. 학습\n",
        "epochs = 10\n",
        "print(\"Training Start\")\n",
        "for epoch in range(epochs):\n",
        "    total_loss = 0\n",
        "    for images, labels in train_loader:\n",
        "        optimizer.zero_grad()\n",
        "        outputs = model(images)\n",
        "        loss = criterion(outputs, labels)\n",
        "        loss.backward()\n",
        "        optimizer.step()\n",
        "        total_loss += loss.item()\n",
        "    print(f\"Epoch: {epoch+1:04d}, cost = {total_loss/len(train_loader):.9f}\")\n",
        "print(\"Training Finished\")\n",
        "\n",
        "# 5. 정확도 측정\n",
        "model.eval()\n",
        "with torch.no_grad():\n",
        "    for images, labels in test_loader:\n",
        "        outputs = model(images)\n",
        "        predictions = torch.argmax(outputs, 1)\n",
        "        accuracy = (predictions == labels).float().mean()\n",
        "        print(\"Accuracy:\", accuracy.item())\n",
        "\n",
        "# 6. 이미지 출력\n",
        "plt.imshow(images[0][0], cmap='Greys')  # [0][0] → (1,28,28) 중 첫 채널만\n",
        "plt.title(f\"Label: {labels[0].item()}\")\n",
        "plt.show()\n"
      ]
    }
  ]
}