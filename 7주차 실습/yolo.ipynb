{
  "nbformat": 4,
  "nbformat_minor": 0,
  "metadata": {
    "colab": {
      "provenance": []
    },
    "kernelspec": {
      "name": "python3",
      "display_name": "Python 3"
    },
    "language_info": {
      "name": "python"
    }
  },
  "cells": [
    {
      "cell_type": "code",
      "execution_count": null,
      "metadata": {
        "colab": {
          "base_uri": "https://localhost:8080/"
        },
        "id": "RUxSSuo8IXRF",
        "outputId": "2fbd3665-54bf-4d84-8637-fe077b313b6b"
      },
      "outputs": [
        {
          "output_type": "stream",
          "name": "stdout",
          "text": [
            "[tensor(6), tensor(-2), tensor(8), tensor(0.5000)]\n"
          ]
        }
      ],
      "source": [
        "# YOLOv5 GitHub에서 다운로드 및 환경 설정\n",
        "!git clone https://github.com/ultralytics/yolov5\n",
        "%cd yolov5\n",
        "!pip install -r requirements.txt\n",
        "\n",
        "# 샘플 이미지로 기본 객체 감지 테스트\n",
        "!python detect.py --weights yolov5s.pt --img 640 --conf 0.25 --source data/images/\n",
        "\n",
        "# 결과 시각화\n",
        "from IPython.display import Image, display\n",
        "import glob\n",
        "\n",
        "# 가장 최근 결과 이미지 자동 표시\n",
        "result_images = glob.glob('runs/detect/exp*/**.jpg', recursive=True)\n",
        "for img_path in result_images:\n",
        "    display(Image(filename=img_path))\n",
        "\n",
        "# 사용자 이미지 업로드\n",
        "from google.colab import files\n",
        "uploaded = files.upload()  # 파일 업로드\n",
        "\n",
        "# 업로드한 파일에 대해 객체 감지 실행\n",
        "import os\n",
        "for filename in uploaded.keys():\n",
        "    print(f\"🔍 Detecting: {filename}\")\n",
        "    !python detect.py --weights yolov5s.pt --img 640 --conf 0.25 --source {filename}\n",
        "\n",
        "# 사용자 이미지 결과 시각화\n",
        "import glob\n",
        "result_images = glob.glob('runs/detect/exp*/**.jpg', recursive=True)\n",
        "for img_path in result_images:\n",
        "    display(Image(filename=img_path))\n",
        "\n"
      ]
    }
  ]
}